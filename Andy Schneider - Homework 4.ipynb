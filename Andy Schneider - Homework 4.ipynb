{
 "cells": [
  {
   "cell_type": "code",
   "execution_count": 1,
   "metadata": {
    "collapsed": false
   },
   "outputs": [
    {
     "name": "stdout",
     "output_type": "stream",
     "text": [
      "Value : An item associated with a key in a dictionary.\n",
      "Dictionary : A collection of key-value pairs.\n",
      "Comment : A note in a program that the Python interpreter ignores.\n",
      "List : A collection of items in a particular order.\n",
      "Key : The first item in a key-value pair in a dictionary.\n",
      "Loop : Work through a collection of items, one at a time.\n",
      "Boolean Expression : An expression that evaluates to True or False.\n",
      "Float : A numerical value with a decimal component.\n",
      "String : A series of characters.\n"
     ]
    }
   ],
   "source": [
    "### Problem 1 - Dictionaries \n",
    "\n",
    "concepts = {'Dictionary': 'A collection of key-value pairs.',\n",
    "            'String': 'A series of characters.',\n",
    "            'Boolean Expression': 'An expression that evaluates to True or False.',\n",
    "            'Comment': 'A note in a program that the Python interpreter ignores.',\n",
    "            'Value': 'An item associated with a key in a dictionary.',\n",
    "            'Loop': 'Work through a collection of items, one at a time.',\n",
    "            'List': 'A collection of items in a particular order.',\n",
    "            'Key': 'The first item in a key-value pair in a dictionary.',\n",
    "            'Float': 'A numerical value with a decimal component.'}\n",
    "\n",
    "for i, j in concepts.items():\n",
    "    print(i,\":\", j)\n"
   ]
  },
  {
   "cell_type": "code",
   "execution_count": 5,
   "metadata": {
    "collapsed": false
   },
   "outputs": [
    {
     "data": {
      "text/plain": [
       "{'Boogie Nights',\n",
       " 'Leaving Las Vegas',\n",
       " 'Life of Pi',\n",
       " 'Midnight in Paris',\n",
       " 'The Big Lebowski',\n",
       " 'Tree of Life',\n",
       " 'Wet Hot American Summer'}"
      ]
     },
     "execution_count": 5,
     "metadata": {},
     "output_type": "execute_result"
    }
   ],
   "source": [
    "### Problem 2 \n",
    "\n",
    "my_set = {'Tree of Life',\n",
    "         'Life of Pi',\n",
    "         'Tommy Boy',\n",
    "         'Wet Hot American Summer',\n",
    "         'Manhattan',\n",
    "         'Boogie Nights',\n",
    "         'Midnight in Paris',\n",
    "         'Leaving Las Vegas',\n",
    "         'The Big Lebowski'}\n",
    "\n",
    "jenny_set = {'Pocahontas',\n",
    "            'Finding Nemo',\n",
    "            'Ratatouille',\n",
    "            'Monsters, Inc',\n",
    "            'Manhattan',\n",
    "            'Tommy Boy'}\n",
    "\n",
    "my_set.intersection(jenny_set)\n",
    "my_set.difference(jenny_set)"
   ]
  },
  {
   "cell_type": "code",
   "execution_count": 34,
   "metadata": {
    "collapsed": false
   },
   "outputs": [
    {
     "name": "stdout",
     "output_type": "stream",
     "text": [
      "\n",
      "Here's my typical day. I wake up at 6:00am, sometimes earlier.\n",
      "I hit snooze but then get out of bed, get dressed, and \n",
      "brush my teeth. I then leave for work by 6:30am, taking the subway. \n",
      "After our morning meeting at 7:30am, we go get coffee. Then it's work\n",
      "for the rest of the day, after which I go to python class.\n",
      "Usually I get home and make dinner around 9:00pm, then\n",
      "go to sleep.\n",
      "\n"
     ]
    }
   ],
   "source": [
    "### Problem 3 \n",
    "\n",
    "tuple_list = (\"wake up\",\n",
    "             \"get dressed\",\n",
    "             \"brush my teeth\",\n",
    "             \"leave for work\",\n",
    "             \"morning meeting\",\n",
    "             \"get coffee\",\n",
    "             \"work\",\n",
    "             \"python class\",\n",
    "             \"dinner\",\n",
    "             \"sleep\")\n",
    "\n",
    "print(\"\"\"\n",
    "Here's my typical day. I {} at 6:00am, sometimes earlier.\n",
    "I hit snooze but then get out of bed, {}, and \n",
    "{}. I then {} by 6:30am, taking the subway. \n",
    "After our {} at 7:30am, we go {}. Then it's {}\n",
    "for the rest of the day, after which I go to {}.\n",
    "Usually I get home and make {} around 9:00pm, then\n",
    "go to {}.\n",
    "\"\"\".format(tuple_list[0],\n",
    "            tuple_list[1],\n",
    "            tuple_list[2],\n",
    "            tuple_list[3],\n",
    "            tuple_list[4],\n",
    "            tuple_list[5],\n",
    "            tuple_list[6],\n",
    "            tuple_list[7],\n",
    "            tuple_list[8],\n",
    "            tuple_list[9]))\n",
    "\n",
    "\n",
    "#for i in range(0,10):\n",
    "    #print(\n",
    "    #\"\"\"\n",
    "    #Here's my typical day. I {} at 6:00am, sometimes earlier.\n",
    "    #I hit snooze but then get out of bed, {}, and \n",
    "    #{}. I then {} by 6:30am, taking the subway. After our {} at 7:30am, we go {}. Then it's {}\n",
    "    #for the rest of the day, after which I go to {}.\n",
    "    #Usually I get home and make {} around 9:00pm, then\n",
    "    #go to {}.\"\"\".format(tuple_list[i]))\n",
    "    \n",
    "\n",
    "\n"
   ]
  },
  {
   "cell_type": "code",
   "execution_count": 18,
   "metadata": {
    "collapsed": false
   },
   "outputs": [
    {
     "name": "stdout",
     "output_type": "stream",
     "text": [
      "\n",
      "Here's some text.\n",
      "Hello\n",
      "Bye\n",
      "\n"
     ]
    }
   ],
   "source": [
    "try_this = (\"Hello\", \"Bye\")\n",
    "\n",
    "#print(\"First gonna say {}, then I'm gonn say {}\".format(try_this[0], try_this[1]))\n",
    "\n",
    "print(\"\"\"\n",
    "Here's some text.\n",
    "{}\n",
    "{}\n",
    "\"\"\".format(try_this[0], try_this[1]))"
   ]
  },
  {
   "cell_type": "code",
   "execution_count": null,
   "metadata": {
    "collapsed": true
   },
   "outputs": [],
   "source": []
  }
 ],
 "metadata": {
  "anaconda-cloud": {},
  "kernelspec": {
   "display_name": "Python [conda root]",
   "language": "python",
   "name": "conda-root-py"
  },
  "language_info": {
   "codemirror_mode": {
    "name": "ipython",
    "version": 3
   },
   "file_extension": ".py",
   "mimetype": "text/x-python",
   "name": "python",
   "nbconvert_exporter": "python",
   "pygments_lexer": "ipython3",
   "version": "3.5.2"
  }
 },
 "nbformat": 4,
 "nbformat_minor": 1
}
